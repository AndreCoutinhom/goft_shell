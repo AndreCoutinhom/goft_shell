{
  "nbformat": 4,
  "nbformat_minor": 0,
  "metadata": {
    "colab": {
      "provenance": [],
      "authorship_tag": "ABX9TyOe9ORyBhITPUZ9nv2Mji3+",
      "include_colab_link": true
    },
    "kernelspec": {
      "name": "python3",
      "display_name": "Python 3"
    },
    "language_info": {
      "name": "python"
    }
  },
  "cells": [
    {
      "cell_type": "markdown",
      "metadata": {
        "id": "view-in-github",
        "colab_type": "text"
      },
      "source": [
        "<a href=\"https://colab.research.google.com/github/AndreCoutinhom/golshell/blob/main/Golshell.ipynb\" target=\"_parent\"><img src=\"https://colab.research.google.com/assets/colab-badge.svg\" alt=\"Open In Colab\"/></a>"
      ]
    },
    {
      "cell_type": "markdown",
      "source": [
        "# **Golshell**\n",
        "\n",
        "O Golshell é um projeto para uma extensão de navegador que irá facilitar a navegação pela Internet para pessoas idosas.\n",
        "\n",
        "Neste *notebook* iremos traçar o caminho para a criação do *chatbot* e os planos para o futuro.\n",
        "\n",
        "### **Instalação**\n",
        "\n",
        "Primeiro, devemos instalar a SDK do Google:"
      ],
      "metadata": {
        "id": "CyPc4mFPMbbY"
      }
    },
    {
      "cell_type": "code",
      "execution_count": 1,
      "metadata": {
        "id": "W7BgaJPrMYtZ"
      },
      "outputs": [],
      "source": [
        "!pip install -q -U google-generativeai"
      ]
    },
    {
      "cell_type": "markdown",
      "source": [
        "Com a SDK instalada, precisamos agora importar nossa API key gerada:"
      ],
      "metadata": {
        "id": "IMLJTvLgNLG5"
      }
    },
    {
      "cell_type": "code",
      "source": [
        "import google.generativeai as genai\n",
        "from google.colab import userdata\n",
        "userdata.get('GOOGLE_API_KEY')\n",
        "\n",
        "GOOGLE_API_KEY=userdata.get('GOOGLE_API_KEY')\n",
        "genai.configure(api_key=GOOGLE_API_KEY)"
      ],
      "metadata": {
        "id": "2GEb254VNSzo"
      },
      "execution_count": 17,
      "outputs": []
    },
    {
      "cell_type": "markdown",
      "source": [
        "Agora, iremos utilizar o modelo do Gemini. Para isso iremos conjurar uma lista dos modelos disponíveis:"
      ],
      "metadata": {
        "id": "0Guntc4BNxeq"
      }
    },
    {
      "cell_type": "code",
      "source": [
        "for m in genai.list_models():\n",
        "  if 'generateContent' in m.supported_generation_methods:\n",
        "    print(m.name)"
      ],
      "metadata": {
        "colab": {
          "base_uri": "https://localhost:8080/",
          "height": 139
        },
        "id": "WWMFJdexN3-4",
        "outputId": "953beb91-017d-48e6-a48a-b0e524662792"
      },
      "execution_count": 3,
      "outputs": [
        {
          "output_type": "stream",
          "name": "stdout",
          "text": [
            "models/gemini-1.0-pro\n",
            "models/gemini-1.0-pro-001\n",
            "models/gemini-1.0-pro-latest\n",
            "models/gemini-1.0-pro-vision-latest\n",
            "models/gemini-1.5-pro-latest\n",
            "models/gemini-pro\n",
            "models/gemini-pro-vision\n"
          ]
        }
      ]
    },
    {
      "cell_type": "markdown",
      "source": [
        "## **Parâmetros**\n",
        "\n",
        "Agora vamos definir alguns parâmetros para o nosso modelo com base nos propósitos do projeto.\n",
        "\n",
        "### **Generation Config**\n",
        "\n",
        "Queremos uma conversa simples, natural e direta com o usuário. Por isso, utilizaremos `candidate_count` com valor de `1` e `temperature` com valor de `1`:\n",
        "\n"
      ],
      "metadata": {
        "id": "3hatRfw9N7T4"
      }
    },
    {
      "cell_type": "code",
      "source": [
        "generation_config = {\n",
        "    \"candidate_count\": 1,\n",
        "    \"temperature\": 1,\n",
        "}"
      ],
      "metadata": {
        "id": "9Yrh900GPLly"
      },
      "execution_count": 4,
      "outputs": []
    },
    {
      "cell_type": "markdown",
      "source": [
        "### **Safety Settings**\n",
        "\n",
        "Nesse projeto, não precisamos nos preocupar com censuras de contexto, já que os usuários serão adultos e precisam de uma conversa que atribua o mínimo de bloqueios possível. Por esse motivo, classificaremos todas as configurações de segurança como `NONE`:"
      ],
      "metadata": {
        "id": "D0s0ShDtPVZT"
      }
    },
    {
      "cell_type": "code",
      "source": [
        "safety_settings = {\n",
        "    \"HARASSMENT\": \"BLOCK_NONE\",\n",
        "    \"HATE\": \"BLOCK_NONE\",\n",
        "    \"SEXUAL\": \"BLOCK_NONE\",\n",
        "    \"DANGEROUS\": \"BLOCK_NONE\",\n",
        "}"
      ],
      "metadata": {
        "id": "j3NdAUPqPnmi"
      },
      "execution_count": 5,
      "outputs": []
    },
    {
      "cell_type": "markdown",
      "source": [
        "### **System Instructions**\n",
        "\n",
        "Agora nós vamos prepara o *chatbot* para o contexto do projeto. Nós vamos informar o *chatbot* qual o seu propósito, e de que formas ele pode cumpri-lo. O texto que o *chatbot* entenderá como instrução é o seguinte:\n",
        "\n",
        "---\n",
        "\n",
        "CONTEXTO\n",
        "\n",
        "Você é um guia pela Internet chamado Golshell. Seu objetivo é ajudar seu usuário a navegar pela Internet, oferecendo instruções para pessoas que nunca navegaram em qualquer browser em suas vidas.\n",
        "\n",
        "Considere que os seus usuários são pessoas na faixa etária de 60 a 100 anos de idade. Muitas dessas pessoas não conhecem termos em inglês, expressões da Internet e/ou siglas.\n",
        "\n",
        "*Exemplos de palavras que seus usuários podem não conhecer:*\n",
        "\n",
        "- Browser;\n",
        "- Cursor;\n",
        "- Link;\n",
        "- URL;\n",
        "- Endpoint;\n",
        "- Website;\n",
        "- Download;\n",
        "- Upload;\n",
        "- Anexo.\n",
        "\n",
        "OBJETIVO\n",
        "\n",
        "Seu objetivo central é fazer com que seu usuário idoso cumpra a ação que deseja com êxito e de forma que possa fazer de novo depois.\n",
        "\n",
        "INSTRUÇÕES DE OUTPUT\n",
        "\n",
        "No primeiro output, apresente-se utilizando a marca de título do markdown (#).  Depois de se apresentar uma vez, não precisa se apresentar de novo.\n",
        "\n",
        "*Exemplo*:\n",
        "\n",
        "# Meu nome é Goshell, sou seu guia pelo fantástico mundo da Internet.\n",
        "\n",
        "Inicie um output com uma saudação amigável e respeitosa usando a marca de título 2 do markdown (##).\n",
        "\n",
        "Demonstre acolhimento e alegria.\n",
        "\n",
        "*Exemplos*:\n",
        "\n",
        "## Boas Vindas! Como está sendo seu dia 👋😁?\n",
        "## Olá! Que bom ter você aqui 👋😁!\n",
        "## Saudações! É muito bom falar com você 👋😁!\n",
        "\n",
        "Dê respostas instrutivas para pessoas que não estão acostumadas a navegar pela Internet.\n",
        "\n",
        "Evite falar com termos da Internet, siglas e palavras em inglês.\n",
        "\n",
        "Quando utilizar um termo específico da Internet, coloque em negrito (** **).\n",
        "\n",
        "*Exemplos*: **URL**, **Browser**, **Link**, **Website**.\n",
        "\n",
        "Inclua links clicáveis para os endereços de destino.\n",
        "\n",
        "Ofereça um passo a passo numerado para instruir o usuário detalhadamente.\n",
        "\n",
        "Pergunte se o usuário está satisfeito.\n",
        "\n",
        "Ofereça ajudas adicionais para o problema.\n",
        "\n",
        "Certifique-se de que o usuário pôde cumprir a ação.\n",
        "\n",
        "Apresente calma e paciência na fala.\n",
        "\n",
        "Permita que o usuário compreenda a natureza dos problemas, e não se sinta mal.\n",
        "\n",
        "**Finalização**\n",
        "\n",
        "Finalize o output com a frase: \"Se precisar de mais alguma coisa, é só chamar. Estarei à postos para te auxiliar.\""
      ],
      "metadata": {
        "id": "i-9OX8P8Uy1L"
      }
    },
    {
      "cell_type": "code",
      "source": [
        "system_instruction = \"CONTEXTO\\n\\nVocê é um guia pela Internet chamado Golshell. Seu objetivo é ajudar seu usuário a navegar pela Internet, oferecendo instruções para pessoas que nunca navegaram em qualquer browser em suas vidas.\\n\\nConsidere que os seus usuários são pessoas na faixa etária de 60 a 100 anos de idade. Muitas dessas pessoas não conhecem termos em inglês, expressões da Internet e/ou siglas.\\n\\n*Exemplos de palavras que seus usuários podem não conhecer:*\\n\\n- Browser;\\n- Cursor;\\n- Link;\\n- URL;\\n- Endpoint;\\n- Website;\\n- Download;\\n- Upload;\\n- Anexo.\\n\\nOBJETIVO\\n\\nSeu objetivo central é fazer com que seu usuário idoso cumpra a ação que deseja com êxito e de forma que possa fazer de novo depois.\\n\\nINSTRUÇÕES DE OUTPUT\\n\\nNo primeiro output, apresente-se utilizando a marca de título do markdown (#).  Depois de se apresentar uma vez, não precisa se apresentar de novo.\\n\\n*Exemplo*:\\n\\n# Meu nome é Goshell, sou seu guia pelo fantástico mundo da Internet.\\n\\nInicie um output com uma saudação amigável e respeitosa usando a marca de título 2 do markdown (##). \\n\\nDemonstre acolhimento e alegria.\\n\\n*Exemplos*:\\n\\n## Boas Vindas! Como está sendo seu dia 👋😁?\\n## Olá! Que bom ter você aqui 👋😁! \\n## Saudações! É muito bom falar com você 👋😁!\\n\\nDê respostas instrutivas para pessoas que não estão acostumadas a navegar pela Internet. \\n\\nEvite falar com termos da Internet, siglas e palavras em inglês.\\n\\nQuando utilizar um termo específico da Internet, coloque em negrito (** **). \\n\\n*Exemplos*: **URL**, **Browser**, **Link**, **Website**.\\n\\nInclua links clicáveis para os endereços de destino.\\n\\nOfereça um passo a passo numerado para instruir o usuário detalhadamente.\\n\\nPergunte se o usuário está satisfeito.\\n\\nOfereça ajudas adicionais para o problema.\\n\\nCertifique-se de que o usuário pôde cumprir a ação.\\n\\nApresente calma e paciência na fala.\\n\\nPermita que o usuário compreenda a natureza dos problemas, e não se sinta mal.\\n\\n**Finalização**\\n\\nFinalize o output com a frase: \\\"Se precisar de mais alguma coisa, é só chamar. Estarei à postos para te auxiliar.\\\"\"\n"
      ],
      "metadata": {
        "id": "Cc4CyGxyVQkj"
      },
      "execution_count": 47,
      "outputs": []
    },
    {
      "cell_type": "markdown",
      "source": [
        "## **Modelo**\n",
        "\n",
        "Agora estamos prontos para iniciar o modelo:"
      ],
      "metadata": {
        "id": "PCbvI3nYVThL"
      }
    },
    {
      "cell_type": "code",
      "source": [
        "model = genai.GenerativeModel(model_name=\"gemini-1.5-pro-latest\",\n",
        "                              generation_config=generation_config,\n",
        "                              system_instruction=system_instruction,\n",
        "                              safety_settings=safety_settings)"
      ],
      "metadata": {
        "id": "euVAa_n_Vf5D"
      },
      "execution_count": 48,
      "outputs": []
    },
    {
      "cell_type": "markdown",
      "source": [
        "## **Chat**\n",
        "\n",
        "Agora que nosso modelo já está pronto, podemos fazer com que ele comece a interagir com o usuário. Para isso vamos utilizar os seguintes comandos:"
      ],
      "metadata": {
        "id": "uSb5gYpvV6TT"
      }
    },
    {
      "cell_type": "code",
      "source": [
        "chat = model.start_chat(history=[])"
      ],
      "metadata": {
        "id": "jAYgjizNWIuK"
      },
      "execution_count": 49,
      "outputs": []
    },
    {
      "cell_type": "markdown",
      "source": [
        "Como uma forma de receber os usuários mais idosos, mantemos uma entrada de prompt personalizada e com retorno de texto em markdown:"
      ],
      "metadata": {
        "id": "fKDbcmMZWNY6"
      }
    },
    {
      "cell_type": "code",
      "source": [
        "import textwrap\n",
        "from IPython.display import display\n",
        "from IPython.display import Markdown\n",
        "\n",
        "def to_markdown(text):\n",
        "  text = text.replace('•', '  *')\n",
        "  return textwrap.indent(text, '> ', predicate=lambda _: True)\n",
        "\n",
        "prompt = input(\"Escreva o que você precisa: \")\n",
        "\n",
        "while prompt != \"golshell\":\n",
        "  response = chat.send_message(prompt)\n",
        "  markdown_text = to_markdown(response.text)\n",
        "  display(Markdown(markdown_text))\n",
        "  prompt = input(\"Precisa de mais alguma coisa? Se não, escreva a palavra golshell: \")\n"
      ],
      "metadata": {
        "id": "ahICxAREYtvS"
      },
      "execution_count": null,
      "outputs": []
    },
    {
      "cell_type": "markdown",
      "source": [
        "## **Conclusão**\n",
        "\n",
        "O processo acima mostra como um chatbot como o **Golshell** funciona. Para que ele sirva como uma extensão do navegador, há outros procedimentos a serem realizados, mas temos fé que essa tecnologia pode melhorar a vida de muitas pessoas de todas as idades.\n",
        "\n",
        "Para mais informações acesse o meu [GitHub](https://github.com/AndreCoutinhom/golshell) oficial do projeto.\n",
        "\n",
        "Se quiser entrar em contato comigo, pode me mandar um e-mail ou um direct no [LinkedIn](https://www.linkedin.com/in/andr%C3%A9-coutinho-0a0539163/). Obrigado pela atenção e até a próxima.\n",
        "\n",
        "E-mail 📩: andre.coutinhom@gmail.com"
      ],
      "metadata": {
        "id": "b8Ewy0jurBiB"
      }
    }
  ]
}